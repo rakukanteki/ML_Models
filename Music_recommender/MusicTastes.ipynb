{
 "cells": [
  {
   "cell_type": "code",
   "execution_count": 180,
   "id": "006109bd",
   "metadata": {},
   "outputs": [],
   "source": [
    "# 1) Importing data\n",
    "import pandas as pd  # Reading files\n",
    "from sklearn.tree  import DecisionTreeClassifier as dtc # Algorithm\n",
    "from sklearn.model_selection import train_test_split as tts # For training\n",
    "from sklearn.metrics import accuracy_score # For accuracy\n",
    "import joblib as jb # For saving and loading models.\n",
    "\n",
    "# music_data = pd.read_csv('music.csv') #Importing file or data\n",
    "# # music_data #Showing the data frame.\n",
    "\n",
    "# # 2) Spliting dataset.\n",
    "# X = music_data.drop(columns=['genre']) # Input dataset\n",
    "# # X # Showing input side.\n",
    "# Y = music_data['genre'] # Output data set\n",
    "# # Y # Showing output side.\n",
    "\n",
    "# # Training \n",
    "# X_train, X_test, Y_train, Y_test = tts(X.values, Y, test_size = 0.2) # Allocating 20% for testing and 80% for training\n",
    "# # First two are for INPUT side Training and Testing\n",
    "# # Last two are for OUTPUT side Training and Testing\n",
    "# model = dtc()\n",
    "\n",
    "# # 2) Passing training Training \n",
    "# model.fit(X_train, Y_train)"
   ]
  },
  {
   "cell_type": "code",
   "execution_count": 199,
   "id": "c2dc0ee6",
   "metadata": {},
   "outputs": [
    {
     "data": {
      "text/plain": [
       "array(['Classical', 'Classical', 'Classical', 'Dance'], dtype=object)"
      ]
     },
     "execution_count": 199,
     "metadata": {},
     "output_type": "execute_result"
    }
   ],
   "source": [
    "# Saving model \n",
    "# jb.dump(model, 'music-recommender.joblib')\n",
    "model = jb.load('music-recommender.joblib')\n",
    "\n",
    "# 3) Predicting\n",
    "predictions = model.predict(X_test)\n",
    "predictions\n",
    "\n",
    "# 4) For accuracy, we compare with 'predictions' and 'Y_test'\n",
    "# score = accuracy_score(Y_test, predictions)\n",
    "# score"
   ]
  },
  {
   "cell_type": "code",
   "execution_count": null,
   "id": "ffe748d3",
   "metadata": {},
   "outputs": [],
   "source": []
  }
 ],
 "metadata": {
  "kernelspec": {
   "display_name": "Python 3 (ipykernel)",
   "language": "python",
   "name": "python3"
  },
  "language_info": {
   "codemirror_mode": {
    "name": "ipython",
    "version": 3
   },
   "file_extension": ".py",
   "mimetype": "text/x-python",
   "name": "python",
   "nbconvert_exporter": "python",
   "pygments_lexer": "ipython3",
   "version": "3.11.5"
  }
 },
 "nbformat": 4,
 "nbformat_minor": 5
}
